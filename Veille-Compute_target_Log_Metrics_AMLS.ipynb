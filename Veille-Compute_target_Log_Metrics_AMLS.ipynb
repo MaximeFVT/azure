{
 "cells": [
  {
   "cell_type": "markdown",
   "metadata": {
    "slideshow": {
     "slide_type": "slide"
    }
   },
   "source": [
    "# Exécution d’un script d’entraînement sur une compute target (VM basique) avec logging des métriques de performances dans Azure Machine Learning Services (AMLS)"
   ]
  },
  {
   "cell_type": "markdown",
   "metadata": {
    "slideshow": {
     "slide_type": "slide"
    }
   },
   "source": [
    "## Creation du Workspace"
   ]
  },
  {
   "cell_type": "code",
   "execution_count": 1,
   "metadata": {
    "slideshow": {
     "slide_type": "subslide"
    }
   },
   "outputs": [],
   "source": [
    "import azureml.core\n",
    "from azureml.core import Workspace, Environment\n",
    "from azureml.core.compute import ComputeTarget, AmlCompute\n",
    "import os"
   ]
  },
  {
   "cell_type": "code",
   "execution_count": 2,
   "metadata": {},
   "outputs": [
    {
     "data": {
      "text/plain": [
       "True"
      ]
     },
     "execution_count": 2,
     "metadata": {},
     "output_type": "execute_result"
    }
   ],
   "source": [
    "from dotenv import load_dotenv\n",
    "from pathlib import Path  # python3 only\n",
    "load_dotenv()\n",
    "env_path = Path('.') / 'auth.env'\n",
    "load_dotenv(dotenv_path=env_path)"
   ]
  },
  {
   "cell_type": "code",
   "execution_count": 3,
   "metadata": {},
   "outputs": [],
   "source": [
    "SUBSCRIPTION_ID = os.getenv('SUBSCRIPTION_ID')\n",
    "RESOURCE_GROUP = os.getenv('RESOURCE_GROUP')"
   ]
  },
  {
   "cell_type": "code",
   "execution_count": 4,
   "metadata": {
    "slideshow": {
     "slide_type": "subslide"
    }
   },
   "outputs": [
    {
     "name": "stdout",
     "output_type": "stream",
     "text": [
      "Azure ML SDK Version:  1.0.85\n"
     ]
    }
   ],
   "source": [
    "# check core SDK version number\n",
    "print(\"Azure ML SDK Version: \", azureml.core.VERSION)"
   ]
  },
  {
   "cell_type": "code",
   "execution_count": 5,
   "metadata": {
    "slideshow": {
     "slide_type": "subslide"
    }
   },
   "outputs": [
    {
     "name": "stdout",
     "output_type": "stream",
     "text": [
      "{}\n"
     ]
    }
   ],
   "source": [
    "# Load the workspace from the saved config file\n",
    "print(Workspace.list(subscription_id=SUBSCRIPTION_ID, resource_group=RESOURCE_GROUP))"
   ]
  },
  {
   "cell_type": "code",
   "execution_count": 6,
   "metadata": {
    "slideshow": {
     "slide_type": "subslide"
    }
   },
   "outputs": [
    {
     "name": "stdout",
     "output_type": "stream",
     "text": [
      "Deploying StorageAccount with name veillewostorage43bd69280.\n",
      "Deploying AppInsights with name veillewoinsights49a5b94f.\n",
      "Deployed AppInsights with name veillewoinsights49a5b94f. Took 6.58 seconds.\n",
      "Deploying KeyVault with name veillewokeyvault1c784130.\n",
      "Deployed KeyVault with name veillewokeyvault1c784130. Took 21.35 seconds.\n",
      "Deployed StorageAccount with name veillewostorage43bd69280. Took 24.49 seconds.\n",
      "Deploying Workspace with name veille_workspace.\n",
      "Deployed Workspace with name veille_workspace. Took 20.4 seconds.\n"
     ]
    }
   ],
   "source": [
    "ws = Workspace.create(name='veille_workspace',\n",
    "               subscription_id=SUBSCRIPTION_ID,\n",
    "               resource_group=RESOURCE_GROUP,\n",
    "               create_resource_group=False,\n",
    "               location='westeurope'\n",
    "               )\n",
    "# ws = Workspace.from_config()"
   ]
  },
  {
   "cell_type": "markdown",
   "metadata": {},
   "source": [
    "## Choose an Environment (for information)"
   ]
  },
  {
   "cell_type": "code",
   "execution_count": null,
   "metadata": {},
   "outputs": [],
   "source": [
    "env = Environment.get(workspace=ws, name=\"AzureML-Minimal\")"
   ]
  },
  {
   "cell_type": "code",
   "execution_count": null,
   "metadata": {
    "scrolled": true
   },
   "outputs": [],
   "source": [
    "envs = Environment.list(workspace=ws)\n",
    "\n",
    "for env in envs:\n",
    "    if env.startswith(\"AzureML\"):\n",
    "        print(\"Name\",env)\n",
    "        print(\"packages\", envs[env].python.conda_dependencies.serialize_to_string())"
   ]
  },
  {
   "cell_type": "markdown",
   "metadata": {},
   "source": [
    "## With Comput Target"
   ]
  },
  {
   "cell_type": "code",
   "execution_count": 7,
   "metadata": {
    "slideshow": {
     "slide_type": "subslide"
    }
   },
   "outputs": [],
   "source": [
    "# Specify a name for the compute (unique within the workspace)\n",
    "compute_name = 'aml-cluster'"
   ]
  },
  {
   "cell_type": "code",
   "execution_count": 8,
   "metadata": {
    "slideshow": {
     "slide_type": "subslide"
    }
   },
   "outputs": [],
   "source": [
    "# Define compute configuration\n",
    "compute_config = AmlCompute.provisioning_configuration(vm_size='STANDARD_DS12_V2',\n",
    "                                                       min_nodes=0, max_nodes=4,\n",
    "                                                       vm_priority='dedicated')"
   ]
  },
  {
   "cell_type": "code",
   "execution_count": 9,
   "metadata": {
    "slideshow": {
     "slide_type": "subslide"
    }
   },
   "outputs": [
    {
     "name": "stdout",
     "output_type": "stream",
     "text": [
      "Creating\n",
      "Succeeded\n",
      "AmlCompute wait for completion finished\n",
      "\n",
      "Minimum number of nodes requested have been provisioned\n"
     ]
    }
   ],
   "source": [
    "# Create the compute\n",
    "aml_cluster = ComputeTarget.create(ws, compute_name, compute_config)\n",
    "aml_cluster.wait_for_completion(show_output=True)"
   ]
  },
  {
   "cell_type": "code",
   "execution_count": 17,
   "metadata": {},
   "outputs": [],
   "source": [
    "from azureml.core.environment import Environment\n",
    "from azureml.core.conda_dependencies import CondaDependencies\n",
    "\n",
    "myenv = Environment(name=\"myenv\")\n",
    "\n",
    "# From a pip requirements file\n",
    "myenv = Environment.from_pip_requirements(name = \"myenv\", \n",
    "                                          file_path = \"C:/Users/Utilisateur/Downloads/experiment_folder/requirements.txt\")\n",
    "\n",
    "myenv.docker.enabled = True"
   ]
  },
  {
   "cell_type": "code",
   "execution_count": 18,
   "metadata": {
    "slideshow": {
     "slide_type": "subslide"
    }
   },
   "outputs": [],
   "source": [
    "from azureml.core import Experiment\n",
    "\n",
    "# Create and run an experiment\n",
    "experiment = Experiment(workspace = ws, name = 'training_experiment')"
   ]
  },
  {
   "cell_type": "code",
   "execution_count": 19,
   "metadata": {},
   "outputs": [
    {
     "data": {
      "text/html": [
       "<table style=\"width:100%\"><tr><th>Experiment</th><th>Id</th><th>Type</th><th>Status</th><th>Details Page</th><th>Docs Page</th></tr><tr><td>training_experiment</td><td>training_experiment_1585294844_548ef0d8</td><td>azureml.scriptrun</td><td>Starting</td><td><a href=\"https://ml.azure.com/experiments/training_experiment/runs/training_experiment_1585294844_548ef0d8?wsid=/subscriptions/68bdd703-8837-469c-80bd-bfb35f3b886f/resourcegroups/ProjectGroup4/workspaces/veille_workspace\" target=\"_blank\" rel=\"noopener\">Link to Azure Machine Learning studio</a></td><td><a href=\"https://docs.microsoft.com/en-us/python/api/azureml-core/azureml.core.script_run.ScriptRun?view=azure-ml-py\" target=\"_blank\" rel=\"noopener\">Link to Documentation</a></td></tr></table>"
      ],
      "text/plain": [
       "Run(Experiment: training_experiment,\n",
       "Id: training_experiment_1585294844_548ef0d8,\n",
       "Type: azureml.scriptrun,\n",
       "Status: Starting)"
      ]
     },
     "execution_count": 19,
     "metadata": {},
     "output_type": "execute_result"
    }
   ],
   "source": [
    "from azureml.core import ScriptRunConfig\n",
    "from azureml.core.runconfig import DEFAULT_CPU_IMAGE\n",
    "\n",
    "src = ScriptRunConfig(source_directory='.', script='train.py')\n",
    "\n",
    "# Set compute target to the one created in previous step\n",
    "src.run_config.target = aml_cluster.name\n",
    "\n",
    "# Set environment\n",
    "src.run_config.environment = myenv\n",
    " \n",
    "run = experiment.submit(config=src)\n",
    "run"
   ]
  },
  {
   "cell_type": "markdown",
   "metadata": {},
   "source": [
    "## Use an Estimator"
   ]
  },
  {
   "cell_type": "code",
   "execution_count": null,
   "metadata": {},
   "outputs": [],
   "source": [
    "from azureml.core import Experiment\n",
    "from azureml.train.estimator import Estimator\n",
    "\n",
    "estimator = Estimator(source_directory='.',\n",
    "                      entry_script='train.py',\n",
    "                      environment_definition=myenv,\n",
    "                      compute_target=aml_cluster)"
   ]
  },
  {
   "cell_type": "code",
   "execution_count": null,
   "metadata": {
    "slideshow": {
     "slide_type": "subslide"
    }
   },
   "outputs": [],
   "source": [
    "run = experiment.submit(config=estimator)"
   ]
  },
  {
   "cell_type": "code",
   "execution_count": null,
   "metadata": {},
   "outputs": [],
   "source": [
    "run.complete()"
   ]
  },
  {
   "cell_type": "markdown",
   "metadata": {},
   "source": [
    "## Local"
   ]
  },
  {
   "cell_type": "code",
   "execution_count": null,
   "metadata": {},
   "outputs": [],
   "source": [
    "# load diabetes dataset, a well-known small dataset that comes with scikit-learn\n",
    "from sklearn.datasets import load_diabetes\n",
    "from sklearn.linear_model import Ridge\n",
    "from sklearn.metrics import mean_squared_error\n",
    "from sklearn.model_selection import train_test_split\n",
    "from sklearn.externals import joblib\n",
    "\n",
    "X, y = load_diabetes(return_X_y = True)\n",
    "columns = ['age', 'gender', 'bmi', 'bp', 's1', 's2', 's3', 's4', 's5', 's6']\n",
    "X_train, X_test, y_train, y_test = train_test_split(X, y, test_size = 0.2, random_state = 0)\n",
    "data = {\n",
    "   \"train\":{\"X\": X_train, \"y\": y_train},        \n",
    "   \"test\":{\"X\": X_test, \"y\": y_test}\n",
    "}\n",
    "alphas = [0.01,0.02,0.03,0.04,0.05,0.06,0.07,0.08,0.09,0.1]\n",
    "for i in alphas:\n",
    "    reg = Ridge(alpha = i)\n",
    "    reg.fit(data['train']['X'], data['train']['y'])\n",
    "    preds = reg.predict(data['test']['X'])\n",
    "    print('Mean Squared Error is', mean_squared_error(preds, data['test']['y']))\n",
    "    joblib.dump(value = reg, filename = 'outputs/model'+ str(i)+ '.pkl');"
   ]
  },
  {
   "cell_type": "code",
   "execution_count": null,
   "metadata": {},
   "outputs": [],
   "source": [
    "from azureml.core import Experiment\n",
    "\n",
    "# Get an experiment object from Azure Machine Learning\n",
    "experiment = Experiment(workspace=ws, name=\"train-within-notebook\")\n",
    "\n",
    "# Create a run object in the experiment\n",
    "run =  experiment.start_logging(snapshot_directory=None)\n",
    "# Log the algorithm parameter alpha to the run\n",
    "alphas = [0.01,0.02,0.03,0.04,0.05,0.06,0.07,0.08,0.09,0.1]\n",
    "for i in alphas:\n",
    "    run.log('alpha', i)\n",
    "\n",
    "    # Create, fit, and test the scikit-learn Ridge regression model\n",
    "    regression_model = Ridge(alpha=i)\n",
    "    regression_model.fit(data['train']['X'], data['train']['y'])\n",
    "    preds = regression_model.predict(data['test']['X'])\n",
    "\n",
    "    # Output the Mean Squared Error to the notebook and to the run\n",
    "    print('Mean Squared Error is', mean_squared_error(data['test']['y'], preds))\n",
    "    run.log('mse', mean_squared_error(data['test']['y'], preds))\n",
    "\n",
    "    # Save the model to the outputs directory for capture\n",
    "    model_file_name = 'outputs/model'+ str(i) +'.pkl'\n",
    "\n",
    "    joblib.dump(value = regression_model, filename = model_file_name)\n",
    "\n",
    "    # upload the model file explicitly into artifacts \n",
    "    run.upload_file(name = model_file_name, path_or_stream = model_file_name)\n",
    "\n",
    "    # Complete the run\n",
    "    run.complete()"
   ]
  }
 ],
 "metadata": {
  "celltoolbar": "Diaporama",
  "kernelspec": {
   "display_name": "Python 3",
   "language": "python",
   "name": "python3"
  },
  "language_info": {
   "codemirror_mode": {
    "name": "ipython",
    "version": 3
   },
   "file_extension": ".py",
   "mimetype": "text/x-python",
   "name": "python",
   "nbconvert_exporter": "python",
   "pygments_lexer": "ipython3",
   "version": "3.7.4"
  }
 },
 "nbformat": 4,
 "nbformat_minor": 2
}
